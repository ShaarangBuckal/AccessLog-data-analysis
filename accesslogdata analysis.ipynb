{
 "cells": [
  {
   "cell_type": "markdown",
   "metadata": {},
   "source": [
    "### DATA PRE-PROCESSING"
   ]
  },
  {
   "cell_type": "code",
   "execution_count": 1,
   "metadata": {},
   "outputs": [],
   "source": [
    "import pandas as pd    # pandas library for data frame handling\n",
    "import re              # regular expression library to extract relevant data\n",
    "from datetime import * # to convert date into the required format"
   ]
  },
  {
   "cell_type": "code",
   "execution_count": 2,
   "metadata": {},
   "outputs": [],
   "source": [
    "#reading the raw file \n",
    "path_to_data = 'UofS_access_log' # enter the name of your file\n",
    "raw_data_SHAARANG = pd.read_csv(filepath_or_buffer = path_to_data, sep = '\\n', encoding=\"ISO-8859-1\", header=None, names=['logs'])"
   ]
  },
  {
   "cell_type": "code",
   "execution_count": 20,
   "metadata": {},
   "outputs": [
    {
     "data": {
      "text/html": [
       "<div>\n",
       "<style scoped>\n",
       "    .dataframe tbody tr th:only-of-type {\n",
       "        vertical-align: middle;\n",
       "    }\n",
       "\n",
       "    .dataframe tbody tr th {\n",
       "        vertical-align: top;\n",
       "    }\n",
       "\n",
       "    .dataframe thead th {\n",
       "        text-align: right;\n",
       "    }\n",
       "</style>\n",
       "<table border=\"1\" class=\"dataframe\">\n",
       "  <thead>\n",
       "    <tr style=\"text-align: right;\">\n",
       "      <th></th>\n",
       "      <th>logs</th>\n",
       "    </tr>\n",
       "  </thead>\n",
       "  <tbody>\n",
       "    <tr>\n",
       "      <th>0</th>\n",
       "      <td>202.32.92.47 - - [01/Jun/1995:00:00:59 -0600] ...</td>\n",
       "    </tr>\n",
       "    <tr>\n",
       "      <th>1</th>\n",
       "      <td>ix-or7-27.ix.netcom.com - - [01/Jun/1995:00:02...</td>\n",
       "    </tr>\n",
       "    <tr>\n",
       "      <th>2</th>\n",
       "      <td>ram0.huji.ac.il - - [01/Jun/1995:00:05:44 -060...</td>\n",
       "    </tr>\n",
       "    <tr>\n",
       "      <th>3</th>\n",
       "      <td>eagle40.sasknet.sk.ca - - [01/Jun/1995:00:08:0...</td>\n",
       "    </tr>\n",
       "  </tbody>\n",
       "</table>\n",
       "</div>"
      ],
      "text/plain": [
       "                                                logs\n",
       "0  202.32.92.47 - - [01/Jun/1995:00:00:59 -0600] ...\n",
       "1  ix-or7-27.ix.netcom.com - - [01/Jun/1995:00:02...\n",
       "2  ram0.huji.ac.il - - [01/Jun/1995:00:05:44 -060...\n",
       "3  eagle40.sasknet.sk.ca - - [01/Jun/1995:00:08:0..."
      ]
     },
     "execution_count": 20,
     "metadata": {},
     "output_type": "execute_result"
    }
   ],
   "source": [
    "raw_data_SHAARANG.head(4)"
   ]
  },
  {
   "cell_type": "markdown",
   "metadata": {},
   "source": [
    "#### the raw file is comprised of only non-null object, as best practice, we will still attempt to detect any anomaly in the data such as NAN or NULL"
   ]
  },
  {
   "cell_type": "code",
   "execution_count": 4,
   "metadata": {},
   "outputs": [
    {
     "name": "stdout",
     "output_type": "stream",
     "text": [
      "<class 'pandas.core.frame.DataFrame'>\n",
      "RangeIndex: 2408625 entries, 0 to 2408624\n",
      "Data columns (total 1 columns):\n",
      "logs    object\n",
      "dtypes: object(1)\n",
      "memory usage: 18.4+ MB\n"
     ]
    }
   ],
   "source": [
    "raw_data_SHAARANG.info()"
   ]
  },
  {
   "cell_type": "markdown",
   "metadata": {},
   "source": [
    "##### Regular Exressions to extract the required data : host, date, status and bytes"
   ]
  },
  {
   "cell_type": "code",
   "execution_count": 5,
   "metadata": {},
   "outputs": [],
   "source": [
    "regex_Host = r\"(^\\S+)\\s\"\n",
    "regex_datetime = r\"\\[(.*)\\]\"\n",
    "regex_status = r\"\\s(\\d{3})\\s\"\n",
    "regex_bytes = r\"\\s(\\d+)$\""
   ]
  },
  {
   "cell_type": "markdown",
   "metadata": {},
   "source": [
    "### For each record extracting the pertinent Host name in an empty list"
   ]
  },
  {
   "cell_type": "code",
   "execution_count": 8,
   "metadata": {},
   "outputs": [
    {
     "data": {
      "text/plain": [
       "['202.32.92.47', 'ix-or7-27.ix.netcom.com', 'ram0.huji.ac.il']"
      ]
     },
     "execution_count": 8,
     "metadata": {},
     "output_type": "execute_result"
    }
   ],
   "source": [
    "Hosts_Shaarang = [re.search(regex_Host, record).group(1)\n",
    "               if re.search(regex_Host, record)\n",
    "               else \"No match found\"\n",
    "               for record in raw_data_SHAARANG[\"logs\"]]\n",
    "Hosts_Shaarang[0:3]"
   ]
  },
  {
   "cell_type": "code",
   "execution_count": 9,
   "metadata": {},
   "outputs": [
    {
     "name": "stdout",
     "output_type": "stream",
     "text": [
      "2408625\n"
     ]
    }
   ],
   "source": [
    "print(len(Hosts_Shaarang))"
   ]
  },
  {
   "cell_type": "markdown",
   "metadata": {},
   "source": [
    "### For each record extracting the pertinent date in an empty list"
   ]
  },
  {
   "cell_type": "code",
   "execution_count": 43,
   "metadata": {},
   "outputs": [
    {
     "data": {
      "text/plain": [
       "['01/Jun/1995:00:00:59 -0600',\n",
       " '01/Jun/1995:00:02:51 -0600',\n",
       " '01/Jun/1995:00:05:44 -0600']"
      ]
     },
     "execution_count": 43,
     "metadata": {},
     "output_type": "execute_result"
    }
   ],
   "source": [
    "date_list = [re.search(regex_datetime, record).group(1)\n",
    "               if re.search(regex_datetime, record)\n",
    "               else \"No match found\"\n",
    "               for record in raw_data_SHAARANG[\"logs\"]]\n",
    "\n",
    "date_list[0:3]"
   ]
  },
  {
   "cell_type": "markdown",
   "metadata": {},
   "source": [
    "### Extracting the Status Code"
   ]
  },
  {
   "cell_type": "code",
   "execution_count": 13,
   "metadata": {},
   "outputs": [
    {
     "data": {
      "text/plain": [
       "['200', '200', '200']"
      ]
     },
     "execution_count": 13,
     "metadata": {},
     "output_type": "execute_result"
    }
   ],
   "source": [
    "status_Shaarang = [re.search(regex_status, record).group(1) \n",
    "               if re.search(regex_status, record)\n",
    "               else \"No match found\"\n",
    "               for record in raw_data_SHAARANG[\"logs\"]]\n",
    "status_Shaarang[0:3]"
   ]
  },
  {
   "cell_type": "markdown",
   "metadata": {},
   "source": [
    "### Extracting the Bytes from each record"
   ]
  },
  {
   "cell_type": "code",
   "execution_count": 16,
   "metadata": {},
   "outputs": [
    {
     "data": {
      "text/plain": [
       "['271', '205908', '271']"
      ]
     },
     "execution_count": 16,
     "metadata": {},
     "output_type": "execute_result"
    }
   ],
   "source": [
    "bytes_Shaarang = [re.search(regex_bytes, record).group(1) # this command retrieves your first match\n",
    "               if re.search(regex_bytes, record)\n",
    "               else \"No match found\"\n",
    "               for record in raw_data_SHAARANG[\"logs\"]]\n",
    "bytes_Shaarang[0:3]"
   ]
  },
  {
   "cell_type": "markdown",
   "metadata": {},
   "source": [
    "### Checking the length of all the Lists prepared above"
   ]
  },
  {
   "cell_type": "code",
   "execution_count": 44,
   "metadata": {},
   "outputs": [
    {
     "data": {
      "text/plain": [
       "True"
      ]
     },
     "execution_count": 44,
     "metadata": {},
     "output_type": "execute_result"
    }
   ],
   "source": [
    "len(bytes_Shaarang)==len(status_Shaarang)==len(date_list)==len(Hosts_Shaarang) \n",
    "# if lengths are same then we can go ahead and join them"
   ]
  },
  {
   "cell_type": "markdown",
   "metadata": {},
   "source": [
    "### Coverting the lists into series and Concatinating them to obtain a final data frame"
   ]
  },
  {
   "cell_type": "code",
   "execution_count": 46,
   "metadata": {},
   "outputs": [],
   "source": [
    "status_Shaarang=pd.Series(status_Shaarang)\n",
    "bytes_Shaarang=pd.Series(bytes_Shaarang)\n",
    "date_Shaarang=pd.Series(date_list)\n",
    "Hosts_Shaarang=pd.Series(Hosts_Shaarang)"
   ]
  },
  {
   "cell_type": "code",
   "execution_count": 47,
   "metadata": {},
   "outputs": [],
   "source": [
    "clean_data_Shaarang=pd.concat([Hosts_Shaarang,date_Shaarang,status_Shaarang,bytes_Shaarang], axis=1)"
   ]
  },
  {
   "cell_type": "code",
   "execution_count": 48,
   "metadata": {},
   "outputs": [],
   "source": [
    "clean_data_Shaarang.columns=[\"Hosts\",\"Date\",\"Status\",\"Bytes\"]"
   ]
  },
  {
   "cell_type": "code",
   "execution_count": 49,
   "metadata": {},
   "outputs": [
    {
     "data": {
      "text/html": [
       "<div>\n",
       "<style scoped>\n",
       "    .dataframe tbody tr th:only-of-type {\n",
       "        vertical-align: middle;\n",
       "    }\n",
       "\n",
       "    .dataframe tbody tr th {\n",
       "        vertical-align: top;\n",
       "    }\n",
       "\n",
       "    .dataframe thead th {\n",
       "        text-align: right;\n",
       "    }\n",
       "</style>\n",
       "<table border=\"1\" class=\"dataframe\">\n",
       "  <thead>\n",
       "    <tr style=\"text-align: right;\">\n",
       "      <th></th>\n",
       "      <th>Hosts</th>\n",
       "      <th>Date</th>\n",
       "      <th>Status</th>\n",
       "      <th>Bytes</th>\n",
       "    </tr>\n",
       "  </thead>\n",
       "  <tbody>\n",
       "    <tr>\n",
       "      <th>0</th>\n",
       "      <td>202.32.92.47</td>\n",
       "      <td>01/Jun/1995:00:00:59 -0600</td>\n",
       "      <td>200</td>\n",
       "      <td>271</td>\n",
       "    </tr>\n",
       "    <tr>\n",
       "      <th>1</th>\n",
       "      <td>ix-or7-27.ix.netcom.com</td>\n",
       "      <td>01/Jun/1995:00:02:51 -0600</td>\n",
       "      <td>200</td>\n",
       "      <td>205908</td>\n",
       "    </tr>\n",
       "    <tr>\n",
       "      <th>2</th>\n",
       "      <td>ram0.huji.ac.il</td>\n",
       "      <td>01/Jun/1995:00:05:44 -0600</td>\n",
       "      <td>200</td>\n",
       "      <td>271</td>\n",
       "    </tr>\n",
       "    <tr>\n",
       "      <th>3</th>\n",
       "      <td>eagle40.sasknet.sk.ca</td>\n",
       "      <td>01/Jun/1995:00:08:06 -0600</td>\n",
       "      <td>200</td>\n",
       "      <td>1116</td>\n",
       "    </tr>\n",
       "    <tr>\n",
       "      <th>4</th>\n",
       "      <td>eagle40.sasknet.sk.ca</td>\n",
       "      <td>01/Jun/1995:00:08:19 -0600</td>\n",
       "      <td>200</td>\n",
       "      <td>49649</td>\n",
       "    </tr>\n",
       "  </tbody>\n",
       "</table>\n",
       "</div>"
      ],
      "text/plain": [
       "                     Hosts                        Date Status   Bytes\n",
       "0             202.32.92.47  01/Jun/1995:00:00:59 -0600    200     271\n",
       "1  ix-or7-27.ix.netcom.com  01/Jun/1995:00:02:51 -0600    200  205908\n",
       "2          ram0.huji.ac.il  01/Jun/1995:00:05:44 -0600    200     271\n",
       "3    eagle40.sasknet.sk.ca  01/Jun/1995:00:08:06 -0600    200    1116\n",
       "4    eagle40.sasknet.sk.ca  01/Jun/1995:00:08:19 -0600    200   49649"
      ]
     },
     "execution_count": 49,
     "metadata": {},
     "output_type": "execute_result"
    }
   ],
   "source": [
    "clean_data_Shaarang.head()"
   ]
  },
  {
   "cell_type": "markdown",
   "metadata": {},
   "source": [
    "### Data Sanity Check"
   ]
  },
  {
   "cell_type": "code",
   "execution_count": 50,
   "metadata": {},
   "outputs": [
    {
     "data": {
      "text/plain": [
       "0"
      ]
     },
     "execution_count": 50,
     "metadata": {},
     "output_type": "execute_result"
    }
   ],
   "source": [
    "clean_data_Shaarang.Hosts.isnull().sum()"
   ]
  },
  {
   "cell_type": "code",
   "execution_count": 51,
   "metadata": {},
   "outputs": [
    {
     "data": {
      "text/plain": [
       "0"
      ]
     },
     "execution_count": 51,
     "metadata": {},
     "output_type": "execute_result"
    }
   ],
   "source": [
    "clean_data_Shaarang.Bytes.isnull().sum()"
   ]
  },
  {
   "cell_type": "code",
   "execution_count": 52,
   "metadata": {},
   "outputs": [
    {
     "data": {
      "text/plain": [
       "0"
      ]
     },
     "execution_count": 52,
     "metadata": {},
     "output_type": "execute_result"
    }
   ],
   "source": [
    "clean_data_Shaarang.Status.isnull().sum()"
   ]
  },
  {
   "cell_type": "code",
   "execution_count": 53,
   "metadata": {},
   "outputs": [
    {
     "data": {
      "text/plain": [
       "0"
      ]
     },
     "execution_count": 53,
     "metadata": {},
     "output_type": "execute_result"
    }
   ],
   "source": [
    "clean_data_Shaarang.Date.isnull().sum()"
   ]
  },
  {
   "cell_type": "markdown",
   "metadata": {},
   "source": [
    "## Clean Data Excel Source for Tableau Analysis"
   ]
  },
  {
   "cell_type": "code",
   "execution_count": 54,
   "metadata": {},
   "outputs": [],
   "source": [
    "clean_data_Shaarang.to_excel(r'ShaarangCleanDataMidterm.xlsx', index = False)"
   ]
  },
  {
   "cell_type": "markdown",
   "metadata": {},
   "source": [
    "##   Number of Records in the final DataSet"
   ]
  },
  {
   "cell_type": "code",
   "execution_count": 55,
   "metadata": {},
   "outputs": [
    {
     "data": {
      "text/plain": [
       "2408625"
      ]
     },
     "execution_count": 55,
     "metadata": {},
     "output_type": "execute_result"
    }
   ],
   "source": [
    "len(clean_data_Shaarang)"
   ]
  },
  {
   "cell_type": "markdown",
   "metadata": {},
   "source": [
    "##  Timestamps for oldest and most recent record"
   ]
  },
  {
   "cell_type": "code",
   "execution_count": 56,
   "metadata": {},
   "outputs": [
    {
     "data": {
      "text/plain": [
       "min    01/Aug/1995:00:00:05 -0600\n",
       "max    31/Oct/1995:23:59:55 -0600\n",
       "Name: Date, dtype: object"
      ]
     },
     "execution_count": 56,
     "metadata": {},
     "output_type": "execute_result"
    }
   ],
   "source": [
    "clean_data_Shaarang.Date.agg(['min','max'])"
   ]
  }
 ],
 "metadata": {
  "kernelspec": {
   "display_name": "Python 3",
   "language": "python",
   "name": "python3"
  },
  "language_info": {
   "codemirror_mode": {
    "name": "ipython",
    "version": 3
   },
   "file_extension": ".py",
   "mimetype": "text/x-python",
   "name": "python",
   "nbconvert_exporter": "python",
   "pygments_lexer": "ipython3",
   "version": "3.7.3"
  }
 },
 "nbformat": 4,
 "nbformat_minor": 2
}
